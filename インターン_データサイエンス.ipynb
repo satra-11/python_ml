{
  "nbformat": 4,
  "nbformat_minor": 0,
  "metadata": {
    "colab": {
      "provenance": [],
      "collapsed_sections": [
        "Dyv3pgzLZ-No",
        "U_1zSNv8d3bU",
        "6CRKHD2Dd5uV",
        "UyVbvG_48SqW",
        "aZMkPLk40Sep",
        "LLE3-Pcc02Ph",
        "ocH-LClbzgx-",
        "eM68YrAoaX7o",
        "GkJbBTn20SWd",
        "LlQ0DeM7goMw",
        "AOmMYA-52Esf",
        "qGv-4i4odncw",
        "DhNr1go-15kA",
        "bRYB48UED3eW",
        "lD87CyUlOI9c"
      ],
      "authorship_tag": "ABX9TyOuk0oTg6PBjwGl0CORWL36",
      "include_colab_link": true
    },
    "kernelspec": {
      "name": "python3",
      "display_name": "Python 3"
    },
    "language_info": {
      "name": "python"
    }
  },
  "cells": [
    {
      "cell_type": "markdown",
      "metadata": {
        "id": "view-in-github",
        "colab_type": "text"
      },
      "source": [
        "<a href=\"https://colab.research.google.com/github/satra-11/python_ml/blob/main/%E3%82%A4%E3%83%B3%E3%82%BF%E3%83%BC%E3%83%B3_%E3%83%87%E3%83%BC%E3%82%BF%E3%82%B5%E3%82%A4%E3%82%A8%E3%83%B3%E3%82%B9.ipynb\" target=\"_parent\"><img src=\"https://colab.research.google.com/assets/colab-badge.svg\" alt=\"Open In Colab\"/></a>"
      ]
    },
    {
      "cell_type": "markdown",
      "source": [
        "# **使用データ**"
      ],
      "metadata": {
        "id": "Dyv3pgzLZ-No"
      }
    },
    {
      "cell_type": "markdown",
      "source": [
        "## **early_retirement.csv**"
      ],
      "metadata": {
        "id": "U_1zSNv8d3bU"
      }
    },
    {
      "cell_type": "markdown",
      "source": [
        "| No. | 退職有無 | 信頼係数 | 思索型：内閉性 | ... | 目標ストレス耐性 | 繁忙ストレス耐性 | 拘束ストレス耐性 | 総合ストレス耐性 |\n",
        "|-----|--------|--------|------------|-----|--------------|--------------|--------------|--------------|\n",
        "|  0  |  NaN   |  100   |     71     | ... |      48      |      47      |      53      |      55      |\n",
        "|  1  |  NaN   |   70   |     48     | ... |      43      |      42      |      50      |      43      |\n",
        "|  2  |  NaN   |   64   |     38     | ... |      55      |      53      |      50      |      50      |\n",
        "|  3  |  退職   |   54   |     58     | ... |      40      |      38      |      53      |      33      |\n",
        "|  4  |  NaN   |   52   |     54     | ... |      62      |      57      |      56      |      66      |\n",
        "| ... |  ...   |  ...   |    ...     | ... |     ...      |     ...      |     ...      |     ...      |\n",
        "| 59  |  退職   |   24   |     54     | ... |      56      |      65      |      52      |      59      |\n",
        "| 60  |  NaN   |   31   |     51     | ... |      53      |      53      |      49      |      40      |\n",
        "| 61  |  NaN   |   67   |     41     | ... |      64      |      63      |      44      |      57      |\n",
        "| 62  |  退職   |   44   |     54     | ... |      53      |      56      |      48      |      52      |\n"
      ],
      "metadata": {
        "id": "FtfoWnxhcg2P"
      }
    },
    {
      "cell_type": "markdown",
      "source": [],
      "metadata": {
        "id": "eD-oOCaLdb-d"
      }
    },
    {
      "cell_type": "markdown",
      "source": [
        "## **job_offer.csv**\n"
      ],
      "metadata": {
        "id": "6CRKHD2Dd5uV"
      }
    },
    {
      "cell_type": "markdown",
      "source": [
        "|  No.  | 内定有無 | 信頼係数 | 思索型：内閉性 | ... | 目標ストレス耐性 | 繁忙ストレス耐性 | 拘束ストレス耐性 | 総合ストレス耐性 |\n",
        "|-------|--------|--------|------------|-----|--------------|--------------|--------------|--------------|\n",
        "|   1   |  NaN   |   71   |     51     | ... |      59      |      58      |      53      |      57      |\n",
        "|   2   |  NaN   |   55   |     61     | ... |      59      |      64      |      53      |      59      |\n",
        "|   3   |  NaN   |   16   |     54     | ... |      51      |      47      |      46      |      50      |\n",
        "|   4   |  NaN   |   68   |     68     | ... |      44      |      45      |      58      |      48      |\n",
        "|   5   |  NaN   |   81   |     31     | ... |      60      |      66      |      58      |      60      |\n",
        "|  ...  |  ...   |  ...   |    ...     | ... |     ...      |     ...      |     ...      |     ...      |\n",
        "| 239   |  内定  |   46   |     51     | ... |      56      |      55      |      53      |      46      |\n",
        "| 240   |  内定  |   57   |     61     | ... |      52      |      53      |      50      |      43      |\n",
        "| 241   |  NaN   |   81   |     41     | ... |      58      |      66      |      49      |      58      |\n",
        "| 242   |  NaN   |   46   |     58     | ... |      58      |      56      |      50      |      55      |\n",
        "| 243   |  NaN   |   26   |     58     | ... |      49      |      50      |      53      |      54      |\n"
      ],
      "metadata": {
        "id": "VjlVqDoReYxr"
      }
    },
    {
      "cell_type": "markdown",
      "source": [
        "# **逆引きリスト**\n",
        "\n"
      ],
      "metadata": {
        "id": "UyVbvG_48SqW"
      }
    },
    {
      "cell_type": "markdown",
      "source": [
        "\n",
        "- 目的変数のフラグ化<br>\n",
        "  `df['退職有無'] = df['退職有無'].map(lambda x: 1 if x == '退職' else 0)`\n",
        "- フィールド名の出力<br>\n",
        "```\n",
        "header = df.columns\n",
        "print(header)\n",
        "```\n",
        "- フィールド名によるフィールド削除\n",
        "```\n",
        "`columns_to_exclude = [\"ﾊﾟｰｿﾅﾘﾃｨｽｹｯﾁ\", \"判定結果\"]\n",
        "df_subset = df.drop(columns=columns_to_exclude)`\n",
        "```\n",
        "\n",
        "\n",
        "\n"
      ],
      "metadata": {
        "id": "pWb4GMOeynKO"
      }
    },
    {
      "cell_type": "markdown",
      "source": [
        "# **探索的データ分析**\n",
        "\n"
      ],
      "metadata": {
        "id": "gwIIqeOvzaIe"
      }
    },
    {
      "cell_type": "markdown",
      "source": [
        "## **散布図**\n",
        "動作：\"自制型：弱気さ\"と\"自制型：慎重性\"の散布図を作成。"
      ],
      "metadata": {
        "id": "aZMkPLk40Sep"
      }
    },
    {
      "cell_type": "code",
      "source": [
        "import pandas as pd\n",
        "import matplotlib\n",
        "import matplotlib.font_manager as fm\n",
        "import matplotlib.pyplot as plt\n",
        "\n",
        "font_location = \"C:\\Windows\\Fonts\\BIZ-UDMinchoM.ttc\"\n",
        "font_name = fm.FontProperties(fname=font_location).get_name()\n",
        "matplotlib.rc('font',family=font_name)\n",
        "\n",
        "frame = r'./early_retirement.csv'\n",
        "data = pd.read_csv(frame,encoding=\"shift-jis\")\n",
        "df = pd.DataFrame(data)\n",
        "\n",
        "# レコードとカラムの同時指定.データフレーム型\n",
        "print(df.columns)\n",
        "x= df.loc[:,\"自制型：弱気さ\"]\n",
        "y= df.loc[:,\"自制型：慎重性\"]\n",
        "\n",
        "# 範囲の設定\n",
        "plt.xlim(0,100)\n",
        "plt.ylim(0,100)\n",
        "plt.scatter(x,y,alpha=0.5,s=1)\n",
        "\n",
        "plt.title(\"【弱気さ】項目と【慎重性】項目の関係\")\n",
        "plt.xlabel(\"自制型：弱気さ\")\n",
        "plt.ylabel(\"自制型：慎重性\")\n",
        "\n",
        "plt.show()"
      ],
      "metadata": {
        "id": "YN6cT81P0SIq"
      },
      "execution_count": null,
      "outputs": []
    },
    {
      "cell_type": "markdown",
      "source": [
        "## **円グラフ**\n",
        "動作：集中力の平均を判定の結果別に円グラフで示す。（棒グラフの方が適切）"
      ],
      "metadata": {
        "id": "LLE3-Pcc02Ph"
      }
    },
    {
      "cell_type": "code",
      "source": [
        "import pandas as pd\n",
        "import matplotlib\n",
        "import matplotlib.font_manager as fm\n",
        "import matplotlib.pyplot as plt\n",
        "\n",
        "font_location = \"C:\\Windows\\Fonts\\BIZ-UDMinchoM.ttc\"\n",
        "font_name = fm.FontProperties(fname=font_location).get_name()\n",
        "matplotlib.rc('font',family=font_name)\n",
        "\n",
        "frame = r'./early_retirement.csv'\n",
        "data = pd.read_csv(frame,encoding=\"shift-jis\")\n",
        "df = pd.DataFrame(data)\n",
        "\n",
        "# df[命題]で命題が真のモノだけ取り出す。.mean()で平均。numeric_only=Trueでint型のカラムのみで平均を出す。\n",
        "a = df[df[\"判定結果\"]==\"Ａ\"].mean(numeric_only=True)\n",
        "b = df[df[\"判定結果\"]==\"Ｂ\"].mean(numeric_only=True)\n",
        "c = df[df[\"判定結果\"]==\"Ｃ\"].mean(numeric_only=True)\n",
        "d = df[df[\"判定結果\"]==\"Ｄ\"].mean(numeric_only=True)\n",
        "e = df[df[\"判定結果\"]==\"Ｅ\"].mean(numeric_only=True)\n",
        "\n",
        "# 集中力の平均のみを出している。\n",
        "x =[a[\"集中力\"],b[\"集中力\"],c[\"集中力\"],d[\"集中力\"],e[\"集中力\"]]\n",
        "labels = [\"a\\n\" + str(round(a[\"集中力\"],1)),\n",
        "          \"b\\n\"+ str(round(b[\"集中力\"],1)),\n",
        "          \"c\\n\"+ str(c[\"集中力\"]),\n",
        "          \"d\\n\"+ str(d[\"集中力\"]),\n",
        "          \"e\\n\"+ str(e[\"集中力\"])\n",
        "]\n",
        "\n",
        "plt.pie(x,labels=labels, startangle=90,counterclock=False)\n",
        "plt.title(\"Aスコアの解答平均値上位5項目（データ：？？人）\")\n",
        "\n",
        "plt.show()"
      ],
      "metadata": {
        "id": "oU7XunYw067f"
      },
      "execution_count": null,
      "outputs": []
    },
    {
      "cell_type": "markdown",
      "source": [
        "## **棒グラフ**\n",
        "動作：動作：集中力の平均を判定の結果別に棒グラフで示す。\n",
        "補足：コード説明は円グラフ参照（大したことはない）"
      ],
      "metadata": {
        "id": "ocH-LClbzgx-"
      }
    },
    {
      "cell_type": "code",
      "source": [
        "import pandas as pd\n",
        "import matplotlib\n",
        "import matplotlib.font_manager as fm\n",
        "import matplotlib.pyplot as plt\n",
        "\n",
        "font_location = \"C:\\Windows\\Fonts\\BIZ-UDMinchoM.ttc\"\n",
        "font_name = fm.FontProperties(fname=font_location).get_name()\n",
        "matplotlib.rc('font',family=font_name)\n",
        "\n",
        "frame = r'./early_retirement.csv'\n",
        "data = pd.read_csv(frame,encoding=\"shift-jis\")\n",
        "df = pd.DataFrame(data)\n",
        "\n",
        "a = df[df[\"判定結果\"]==\"Ａ\"].mean(numeric_only=True)\n",
        "b = df[df[\"判定結果\"]==\"Ｂ\"].mean(numeric_only=True)\n",
        "c = df[df[\"判定結果\"]==\"Ｃ\"].mean(numeric_only=True)\n",
        "d = df[df[\"判定結果\"]==\"Ｄ\"].mean(numeric_only=True)\n",
        "e = df[df[\"判定結果\"]==\"Ｅ\"].mean(numeric_only=True)\n",
        "x = [1,2,3,4,5]\n",
        "\n",
        "height = [a[\"責任感\"], b[\"責任感\"], c[\"責任感\"], d[\"責任感\"], e[\"責任感\"]]\n",
        "\n",
        "labels = [\"A\",\"B\",\"C\",\"D\",\"E\"]\n",
        "colors = [\"lightcoral\",\"lightblue\",\"lightpink\",\"lightblue\", \"lightcoral\"]\n",
        "plt.bar(x,height,tick_label=labels,color=colors)\n",
        "\n",
        "plt.title(\"【責任感】項目に対するスコア別平均値\")\n",
        "plt.xlabel(\"スコア\")\n",
        "plt.ylabel(\"数値\")\n",
        "\n",
        "plt.show()"
      ],
      "metadata": {
        "id": "9OIh_M5uzfxv"
      },
      "execution_count": null,
      "outputs": []
    },
    {
      "cell_type": "markdown",
      "source": [
        "## **ヒストグラム**\n",
        "動作："
      ],
      "metadata": {
        "id": "bZoedYG0wvpZ"
      }
    },
    {
      "cell_type": "code",
      "source": [
        "import pandas as pd\n",
        "import matplotlib\n",
        "import matplotlib.font_manager as fm\n",
        "import seaborn as sns\n",
        "import matplotlib.pyplot as plt\n",
        "\n",
        "font_location = \"C:/Windows/Fonts/BIZ-UDMinchoM.ttc\"\n",
        "font_name = fm.FontProperties(fname=font_location).get_name()\n",
        "matplotlib.rc('font', family=font_name)\n",
        "\n",
        "frame = r'./early_retirement.csv'\n",
        "data = pd.read_csv(frame, encoding=\"shift-jis\")\n",
        "df = pd.DataFrame(data)\n",
        "\n",
        "# データのクレンジング\n",
        "df['退職有無'] = df['退職有無'].map(lambda x: 1 if x == '退職' else 0)\n",
        "df = df.drop(columns=[\"ﾊﾟｰｿﾅﾘﾃｨｽｹｯﾁ\", \"判定結果\", \"No.\", \"信頼係数\"])\n",
        "\n",
        "retired = df[df['退職有無'] == 1]\n",
        "stayed = df[df['退職有無'] == 0]\n",
        "\n",
        "fig, axes = plt.subplots(2, 2, figsize=(10, 10))\n",
        "ax = axes.ravel()\n",
        "\n",
        "# iloc()でカラム名ではなく、インデックス名で取り出し可能\n",
        "for i in range(4):\n",
        "    sns.histplot(retired.iloc[:, i].values, ax=ax[i], color='blue', alpha=0.5, common_bins=True)\n",
        "    sns.histplot(stayed.iloc[:, i].values, ax=ax[i], color='orange', alpha=0.5, common_bins=True)\n",
        "    ax[i].set_title(df.columns[i])\n",
        "    ax[i].set_yticks(())\n",
        "\n",
        "ax[0].set_ylabel('Count')\n",
        "ax[0].legend(['退職者', '退職者でない'], loc='best')\n",
        "\n",
        "plt.show()\n",
        "\n"
      ],
      "metadata": {
        "id": "uIpaMy8Bw0-K"
      },
      "execution_count": null,
      "outputs": []
    },
    {
      "cell_type": "markdown",
      "source": [
        "## **相関係数をヒートマップで表示する**\n",
        "動作：csvを読み込んで、各フィールド値の相関係数を算出し、ヒートマップとしてpdfに出力する。\n",
        "\n",
        "前提：読み込むcsvファイルが同一ディレクトリ内にあること。ライブラリのインストール。\n",
        "\n",
        "課題："
      ],
      "metadata": {
        "id": "eM68YrAoaX7o"
      }
    },
    {
      "cell_type": "code",
      "execution_count": null,
      "metadata": {
        "id": "SrlahSwxYs-p"
      },
      "outputs": [],
      "source": [
        "import pandas as pd\n",
        "import matplotlib\n",
        "import matplotlib.font_manager as fm\n",
        "import matplotlib.pyplot as plt\n",
        "import seaborn as sns\n",
        "\n",
        "frame = r'./early_retirement.csv'\n",
        "data = pd.read_csv(frame,encoding=\"shift-jis\")\n",
        "df = pd.DataFrame(data)\n",
        "\n",
        "\n",
        "# \"No.\", \"判定結果\", \"ﾊﾟｰｿﾅﾘﾃｨｽｹｯﾁ\",\"退職有無\"フィールドの除外\n",
        "exclude_column = [\"No.\", \"判定結果\", \"ﾊﾟｰｿﾅﾘﾃｨｽｹｯﾁ\",\"退職有無\"]\n",
        "dfSubset = df.drop(columns=exclude_column)\n",
        "\n",
        "#相関係数の算出。print(corr)で内容確認できる\n",
        "corr = dfSubset.corr()\n",
        "\n",
        "#スタイルの設定\n",
        "sns.set(style=\"white\")\n",
        "plt.figure(figsize=(20, 16))\n",
        "sns.heatmap(corr, annot=False, cmap=\"coolwarm\", linewidths=.5)\n",
        "\n",
        "#日本語フォントの設定\n",
        "plt.xticks(font='HGMinchoB')\n",
        "plt.yticks(font='HGMinchoB')\n",
        "plt.title(\"Correlation ヒートマップ\", font='HGMinchoB')\n",
        "\n",
        "#pdfに出力\n",
        "plt.savefig(\"correlation_heatmap.pdf\", bbox_inches=\"tight\")"
      ]
    },
    {
      "cell_type": "markdown",
      "source": [
        "## **平均の差**\n",
        "動作：退職の有無で2グループに分け、それぞれのグループの平均の差を出力する。\n",
        "\n",
        "前提：読み込むcsvファイルが同一ディレクトリ内にあること。scikit-learn等のインストール\n",
        "\n",
        "課題：±のつけ方が冗長"
      ],
      "metadata": {
        "id": "GkJbBTn20SWd"
      }
    },
    {
      "cell_type": "code",
      "source": [
        "import pandas as pd\n",
        "import matplotlib\n",
        "import matplotlib.font_manager as fm\n",
        "import matplotlib.pyplot as plt\n",
        "\n",
        "font_location = \"C:\\Windows\\Fonts\\BIZ-UDMinchoM.ttc\"\n",
        "font_name = fm.FontProperties(fname=font_location).get_name()\n",
        "matplotlib.rc('font',family=font_name)\n",
        "frame = r'./early_retirement.csv'\n",
        "data = pd.read_csv(frame,encoding=\"shift-jis\")\n",
        "df = pd.DataFrame(data)\n",
        "\n",
        "#項目名取り出し\n",
        "headers = df.columns\n",
        "#±の符号用\n",
        "x=''\n",
        "#取り出した項目に対してループを回す\n",
        "for column in headers:\n",
        "    if column == \"退職有無\" or column == \"ﾊﾟｰｿﾅﾘﾃｨｽｹｯﾁ\" or column == \"判定結果\":\n",
        "        continue\n",
        "    subsetA = df.loc[df['退職有無'] == '退職', [column]]\n",
        "    a = subsetA[column].mean()\n",
        "    subsetB = df.loc[df['退職有無'] != '退職', [column]]\n",
        "    b = subsetB[column].mean()\n",
        "    ans = abs(a-b)\n",
        "    ans = round(ans)\n",
        "    if ans>0: #退職者の方が数値が高い\n",
        "        x='+'\n",
        "    else:\n",
        "        x='-'\n",
        "\n",
        "print(\"【\" + column + \"】の平均値の差:は：　\" + x + str(ans) + \"\\n\")"
      ],
      "metadata": {
        "id": "7Lv1GgpQ0Ulg"
      },
      "execution_count": null,
      "outputs": []
    },
    {
      "cell_type": "markdown",
      "source": [
        "## **クラスター分析とpdf出力**\n",
        "前提：dataディレクトリを作っておくこと。csvファイルが同一ディレクトリ内にあること。必要なライブラリが入っていること。"
      ],
      "metadata": {
        "id": "LlQ0DeM7goMw"
      }
    },
    {
      "cell_type": "code",
      "source": [
        "import pandas as pd\n",
        "import matplotlib\n",
        "import matplotlib.font_manager as fm\n",
        "import seaborn as sns\n",
        "import matplotlib.pyplot as plt\n",
        "from matplotlib.backends.backend_pdf import PdfPages\n",
        "\n",
        "font_location = \"C:\\Windows\\Fonts\\BIZ-UDMinchoM.ttc\"\n",
        "font_name = fm.FontProperties(fname=font_location).get_name()\n",
        "matplotlib.rc('font', family=font_name)\n",
        "frame = r'./early_retirement.csv'\n",
        "data = pd.read_csv(frame, encoding=\"shift-jis\")\n",
        "df = pd.DataFrame(data)\n",
        "\n",
        "columns_to_exclude = [\"ﾊﾟｰｿﾅﾘﾃｨｽｹｯﾁ\", \"判定結果\"]\n",
        "df_subset = df.drop(columns=columns_to_exclude)\n",
        "\n",
        "df_filled = df_subset.fillna('退職してない')\n",
        "\n",
        "headers = df_filled.columns.values\n",
        "\n",
        "count = 0\n",
        "\n",
        "i=3\n",
        "for j in range(i+1,66):\n",
        "    final_target = []\n",
        "    final_target.append(headers[i])\n",
        "    final_target.append(headers[j])\n",
        "    sns.pairplot(df_filled, hue='退職有無', diag_kind='kde', vars=['思索型：内閉性', '自主性']) #final_target\n",
        "    save_file = \"final_third.png\"   #総調べならr\"data\\\\\" + headers[i] + \"_VS_\" + headers[j] + \".png\"\n",
        "    print(save_file)\n",
        "    plt.savefig(save_file, format='png')\n",
        "    break #最終出力なので一回だけ回したい\n"
      ],
      "metadata": {
        "id": "RAJguHtYguBm"
      },
      "execution_count": null,
      "outputs": []
    },
    {
      "cell_type": "markdown",
      "source": [
        "# **簡易的な機械学習モデルの生成（教師あり）**"
      ],
      "metadata": {
        "id": "AOmMYA-52Esf"
      }
    },
    {
      "cell_type": "markdown",
      "source": [
        "## **重回帰**\n",
        "動作：csvファイルを読み込んで、学習データとテストデータに分ける。<br>\n",
        "学習データで回帰モデルを生成して、テストデータでテストする。\n",
        "\n",
        "前提：読み込むcsvファイルが同一ディレクトリ内にあること。scikit-learn等のインストール。\n",
        "\n",
        "課題：\n",
        "- 離散値を入れるかどうかの判断\n",
        "- 相関係数の高い要素の削除(多重共線性を回避するため)\n",
        "- 決定係数(train)と決定係数(test)の差異。つまりはデータ不足。\n",
        "- 標準化\n",
        "\n",
        "補足：目的関数が二択(0,1)の時、ロジスティック回帰という。今回もそう。\n",
        "\n",
        "【とも】"
      ],
      "metadata": {
        "id": "qGv-4i4odncw"
      }
    },
    {
      "cell_type": "code",
      "source": [
        "import pandas as pd\n",
        "import matplotlib\n",
        "import matplotlib.font_manager as fm\n",
        "# モジュールはscikit-learnでインストールするとよい\n",
        "import matplotlib.font_manager as fm\n",
        "from sklearn.model_selection import train_test_split\n",
        "from sklearn.linear_model import LinearRegression\n",
        "\n",
        "#csvファイルのインポートとデータフレームの初期化（共通）\n",
        "frame = r'./early_retirement.csv'\n",
        "data = pd.read_csv(frame, encoding=\"shift-jis\")\n",
        "df = pd.DataFrame(data)\n",
        "#不適切なフィールドを削除\n",
        "df = df.drop(columns=[\"No.\", \"信頼係数\", \"ﾊﾟｰｿﾅﾘﾃｨｽｹｯﾁ\", \"判定結果\"])\n",
        "#退職者＝＞１、そうでない人＝＞0\n",
        "df['退職有無']= df['退職有無'].map(lambda x:1 if x=='退職' else 0)\n",
        "#目的変数y, と説明変数Xに分離\n",
        "X = df.drop('退職有無',axis=1)\n",
        "y= df['退職有無']\n",
        "\n",
        "#学習用データとテストデータに分ける。0.5なので半分。\n",
        "X_train, X_test, y_train, y_test = train_test_split(X, y, test_size=0.5, random_state=0)\n",
        "\n",
        "#回帰モデルの初期化\n",
        "model = LinearRegression()\n",
        "model.fit(X_train,y_train)\n",
        "\n",
        "#結果の出力\n",
        "#format()は{}内に変数を代入できる。{:.3f}は小数点以下3桁までという意味。\n",
        "print('決定係数(train):{:.3f}'.format(model.score(X_train, y_train)))\n",
        "print('決定係数(test):{:.3f}'.format(model.score(X_test, y_test)))\n",
        "#「 model.coef_ 」は回帰係数の配列。それを「pd.Series」で説明変数の列名を含めて表示する\n",
        "print(\"\\n回帰係数\\n{}\".format(pd.Series(model.coef_, index=X.columns)))\n",
        "print(\"切片:{:.3f}\".format(model.intercept_))"
      ],
      "metadata": {
        "id": "wWB38Qw7dW1j"
      },
      "execution_count": null,
      "outputs": []
    },
    {
      "cell_type": "markdown",
      "source": [
        "## **決定木**\n",
        "動作：\n",
        "\n",
        "前提：\n",
        "\n",
        "課題：\n",
        "\n",
        "補足："
      ],
      "metadata": {
        "id": "DhNr1go-15kA"
      }
    },
    {
      "cell_type": "code",
      "source": [
        "import pandas as pd\n",
        "from sklearn.model_selection import train_test_split\n",
        "from sklearn.tree import DecisionTreeClassifier\n",
        "\n",
        "frame = r'./early_retirement.csv'\n",
        "data = pd.read_csv(frame, encoding=\"shift-jis\")\n",
        "df = pd.DataFrame(data)\n",
        "df = df[['退職有無','達成欲求', 'ﾓﾗﾄﾘｱﾑ傾向', '自主性']]\n",
        "# df = df.drop(columns=[\"ﾊﾟｰｿﾅﾘﾃｨｽｹｯﾁ\", \"判定結果\"])\n",
        "df['退職有無']= df['退職有無'].map(lambda x:1 if x=='退職' else 0)\n",
        "\n",
        "X = df.drop('退職有無',axis=1)\n",
        "y= df['退職有無']\n",
        "\n",
        "\n",
        "X_train, X_test, y_train, y_test = train_test_split(X, y, test_size=0.6, random_state=0)\n",
        "\n",
        "model = DecisionTreeClassifier(criterion='entropy', max_depth=5, random_state=0)\n",
        "model.fit(X_train,y_train)\n",
        "\n",
        "print('正解率(train):{:.3f}'.format(model.score(X_train, y_train)))\n",
        "print('正解率(test):{:.3f}'.format(model.score(X_test, y_test)))\n",
        "\n"
      ],
      "metadata": {
        "id": "EXeFK3_4147t"
      },
      "execution_count": null,
      "outputs": []
    },
    {
      "cell_type": "markdown",
      "source": [
        "#"
      ],
      "metadata": {
        "id": "8rdH9P7dt7VU"
      }
    },
    {
      "cell_type": "markdown",
      "source": [
        "## **k-NN法**"
      ],
      "metadata": {
        "id": "bRYB48UED3eW"
      }
    },
    {
      "cell_type": "code",
      "source": [
        "import pandas as pd\n",
        "from sklearn.model_selection import train_test_split\n",
        "from sklearn.neighbors import KNeighborsClassifier\n",
        "import matplotlib.pyplot as plt\n",
        "\n",
        "frame = r'./early_retirement.csv'\n",
        "data = pd.read_csv(frame, encoding=\"shift-jis\")\n",
        "df = pd.DataFrame(data)\n",
        "df['退職有無'] = df['退職有無'].map(lambda x: 1 if x == '退職' else 0)\n",
        "\n",
        "X_train, X_test, y_train, y_test = train_test_split(df[[\"責任感\", \"自制型：弱気さ\"]], df['退職有無'], stratify=df['退職有無'], random_state=0)\n",
        "\n",
        "training_accuracy = []\n",
        "test_accuracy = []\n",
        "\n",
        "for n_neighbors in range(1,21):\n",
        "    model = KNeighborsClassifier(n_neighbors=n_neighbors)\n",
        "    model.fit(X_train,y_train)\n",
        "    training_accuracy.append(model.score(X_train, y_train))\n",
        "    test_accuracy.append(model.score(X_test, y_test))\n",
        "\n",
        "plt.plot(range(1, 21), training_accuracy, label='Training')\n",
        "plt.plot(range(1, 21), test_accuracy, label='test')\n",
        "\n",
        "plt.ylabel('Accuracy')\n",
        "plt.xlabel('n_neighbors')\n",
        "plt.legend()\n",
        "plt.show()\n",
        "\n"
      ],
      "metadata": {
        "id": "izB8XZEHD9xF"
      },
      "execution_count": null,
      "outputs": []
    },
    {
      "cell_type": "markdown",
      "source": [
        "# **簡易的な機械学習モデルの生成（教師なし）**\n"
      ],
      "metadata": {
        "id": "lD87CyUlOI9c"
      }
    },
    {
      "cell_type": "markdown",
      "source": [
        "## **クラスタリング**\n",
        "動作：散布図から自動でクラスターを検出\n",
        "\n",
        "説明："
      ],
      "metadata": {
        "id": "_evCqnpzONqB"
      }
    },
    {
      "cell_type": "code",
      "source": [
        "from matplotlib import pyplot as plt\n",
        "from sklearn.cluster import KMeans\n",
        "import pandas as pd\n",
        "\n",
        "from sklearn.datasets import make_blobs\n",
        "\n",
        "frame = r'./early_retirement.csv'\n",
        "data = pd.read_csv(frame, encoding=\"shift-jis\")\n",
        "df = pd.DataFrame(data)\n",
        "\n",
        "# 評価軸の設定\n",
        "X = df[[\"責任感\", \"自制型：弱気さ\"]].values\n",
        "test, _ = make_blobs(random_state=10)\n",
        "\n",
        "kmeans = KMeans(init='random', n_clusters=2)\n",
        "kmeans.fit(X)\n",
        "\n",
        "y_pred = kmeans.predict(X)\n",
        "\n",
        "# 結果の確認\n",
        "merge_data = pd.concat([pd.DataFrame(X[:, 0]), pd.DataFrame(X[:, 1]), pd.DataFrame(y_pred)], axis=1)\n",
        "merge_data.columns = ['feature1', 'feature2', 'cluster']\n",
        "\n",
        "ax = None\n",
        "colors = ['blue', 'red']\n",
        "\n",
        "for i, data in merge_data.groupby('cluster'):\n",
        "    ax = data.plot.scatter(x='feature1', y='feature2', color=colors[i], label=f'cluster{i}', ax=ax)\n",
        "\n",
        "plt.show()"
      ],
      "metadata": {
        "id": "RmjnfJeDOTJ5"
      },
      "execution_count": null,
      "outputs": []
    },
    {
      "cell_type": "markdown",
      "source": [
        "## エルボー法\n",
        "\n",
        "説明：クラスター数を事前に見積もる。曲がり具合から判断できる\n"
      ],
      "metadata": {
        "id": "jfAbG8bAhCkH"
      }
    },
    {
      "cell_type": "code",
      "source": [
        "import pandas as pd\n",
        "from sklearn.cluster import KMeans\n",
        "import matplotlib.pyplot as plt\n",
        "\n",
        "# データの取り込み\n",
        "frame = r'./early_retirement.csv'\n",
        "data = pd.read_csv(frame, encoding=\"shift-jis\")\n",
        "df = pd.DataFrame(data)\n",
        "\n",
        "#データの加工\n",
        "df['退職有無'] = df['退職有無'].map(lambda x: 1 if x == '退職' else 0)\n",
        "\n",
        "# 評価軸の設定\n",
        "X = df[[\"責任感\", \"自制型：弱気さ\"]].values\n",
        "\n",
        "#エルボー法\n",
        "dist_list = []\n",
        "for i in range(1,10):\n",
        "    kmeans = KMeans(n_clusters=i, init='random', random_state=0)\n",
        "    kmeans.fit(X)\n",
        "    dist_list.append(kmeans.inertia_)\n",
        "\n",
        "#プロット\n",
        "plt.plot(range(1,10), dist_list,marker='+')\n",
        "plt.xlabel('Number of clusters')\n",
        "plt.ylabel('Distortion')\n",
        "plt.show()"
      ],
      "metadata": {
        "id": "bQMhPBfjhDMJ"
      },
      "execution_count": null,
      "outputs": []
    },
    {
      "cell_type": "code",
      "source": [
        "##  シルエット係数\n"
      ],
      "metadata": {
        "id": "q7-L8jm2jBH_"
      },
      "execution_count": null,
      "outputs": []
    },
    {
      "cell_type": "markdown",
      "source": [
        "## **主成分分析**\n",
        "\n",
        "動作：\n",
        "\n",
        "説明：説明変数が多く、分布が重なっている時に有効\n",
        "\n",
        "課題：離散値をダミー変数に変えてみると良いかもしれない"
      ],
      "metadata": {
        "id": "itaevEISbCQ2"
      }
    },
    {
      "cell_type": "code",
      "source": [
        "\n",
        "from sklearn.decomposition import PCA\n",
        "from sklearn.preprocessing import StandardScaler\n",
        "import pandas as pd\n",
        "import matplotlib\n",
        "import matplotlib.font_manager as fm\n",
        "import matplotlib.pyplot as plt\n",
        "\n",
        "# 言語の設定\n",
        "font_location = \"C:\\Windows\\Fonts\\BIZ-UDMinchoM.ttc\"\n",
        "font_name = fm.FontProperties(fname=font_location).get_name()\n",
        "matplotlib.rc('font',family=font_name)\n",
        "\n",
        "# ファイルの読み込み\n",
        "frame = r'./job_offer.csv'\n",
        "data = pd.read_csv(frame,encoding=\"utf-8\")\n",
        "df = pd.DataFrame(data)\n",
        "\n",
        "# 信頼係数による振り分け\n",
        "df = df[(df['信頼係数'] > 20) & (df['信頼係数'] != 100)]\n",
        "\n",
        "# 退職者データのフラグ化\n",
        "df['内定有無'] = df['内定有無'].map(lambda x: 1 if x == '内定' else 0)\n",
        "\n",
        "# ここにデータ入れる\n",
        "data = df[['思索型：内閉性', '活動型：気分性', '努力型：持続性', '自制型：弱気さ']]\n",
        "\n",
        "target = df['内定有無']\n",
        "sc = StandardScaler()\n",
        "X_std = sc.fit_transform(data)\n",
        "pca = PCA(n_components=2)\n",
        "pca.fit(X_std)\n",
        "X_pca = pca.transform(X_std)\n",
        "X_pca = pd.DataFrame(X_pca, columns=['pc1', 'pc2'])\n",
        "X_pca = pd.concat([X_pca, target], axis=1)\n",
        "print(pca.explained_variance_ratio_)\n",
        "pca_retired = X_pca[X_pca['内定有無']==1]\n",
        "pca_stayed = X_pca[X_pca['内定有無']==0]\n",
        "ax = pca_retired.plot.scatter(x='pc1', y='pc2', color='red', label='offered')\n",
        "pca_stayed.plot.scatter(x='pc1', y='pc2', color='blue', label='rejected', ax=ax)\n",
        "plt.show()"
      ],
      "metadata": {
        "id": "-Y0ET_LPbI4D"
      },
      "execution_count": null,
      "outputs": []
    },
    {
      "cell_type": "code",
      "source": [
        "from sklearn.datasets import load_breast_cancer\n",
        "\n",
        "# cancer = load_breast_cancer()\n",
        "# malignant = cancer.data[cancer.target==0]\n",
        "#\n",
        "# benign = cancer.data[cancer.target==1]\n",
        "#\n",
        "# sc = StandardScaler()\n",
        "#\n",
        "# X_std = sc.fit_transform(cancer.data)\n",
        "#\n",
        "# pca = PCA(n_components=2)\n",
        "# pca.fit(X_std)\n",
        "# X_pca = pca.transform(X_std)\n",
        "#\n",
        "# X_pca = pd.DataFrame(X_pca, columns=['pc1', 'pc2'])\n",
        "#\n",
        "# X_pca = pd.concat([X_pca, pd.DataFrame(cancer.target, columns=['target'])], axis=1)\n",
        "#\n",
        "# pca_malignant = X_pca[X_pca['target']==0]\n",
        "# pca_benign = X_pca[X_pca['target']==1]\n",
        "#\n",
        "# ax = pca_malignant.plot.scatter(x='pc1', y='pc2', color='red', label='malignant')\n",
        "# pca_benign.plot.scatter(x='pc1', y='pc2', color='blue', label='benign', ax=ax)\n",
        "#\n",
        "# plt.show()"
      ],
      "metadata": {
        "id": "7yV8ksDep8sS"
      },
      "execution_count": null,
      "outputs": []
    },
    {
      "cell_type": "markdown",
      "source": [
        "## **マーケットバスケット分析とアソシエーションルール**\n",
        "動作：\n",
        "\n",
        "説明："
      ],
      "metadata": {
        "id": "jnh9Ov6uxaMF"
      }
    },
    {
      "cell_type": "code",
      "source": [],
      "metadata": {
        "id": "nFfou-tjwLhn"
      },
      "execution_count": null,
      "outputs": []
    },
    {
      "cell_type": "markdown",
      "source": [
        "# **モデルの検証とチューニング**"
      ],
      "metadata": {
        "id": "GxBvR4gmwTfO"
      }
    },
    {
      "cell_type": "markdown",
      "source": [
        "## **ホールドアウト法**"
      ],
      "metadata": {
        "id": "i-qoAR0W8Mfk"
      }
    },
    {
      "cell_type": "markdown",
      "source": [
        "\n",
        "定義：テストデータと学習データに一定の分割する方法\n",
        "\n",
        "コード：\n",
        "`X_train, X_test, y_train, y_test = train_test_split(X, y, test_size=0.6, random_state=0)`\n",
        "\n",
        "課題：データ数が少ない時に\n",
        "  - 特定のテストデータによっては、たまたま高く評価される可能性がある\n",
        "  - データ数が削られ、肝心の学習が十分に進まない"
      ],
      "metadata": {
        "id": "klJU1QWFV0JX"
      }
    },
    {
      "cell_type": "markdown",
      "source": [
        "## **交差検証法（k分割）**\n"
      ],
      "metadata": {
        "id": "vemHFClm-fVW"
      }
    },
    {
      "cell_type": "markdown",
      "source": [
        "定義：データをk個のブロックにランダムに分割する。そして、k個のうち1つのブロックを検証用、残りのk-1を学習用。\n",
        "\n",
        "例：k=5なら5回検証する。\n",
        "\n",
        "応用：1個抜き交差検証...k=データ数にして"
      ],
      "metadata": {
        "id": "oXUnO51ie6zX"
      }
    },
    {
      "cell_type": "code",
      "source": [
        "# 決定木の例\n",
        "import pandas as pd\n",
        "from sklearn.model_selection import train_test_split\n",
        "from sklearn.tree import DecisionTreeClassifier\n",
        "\n",
        "frame = r'./early_retirement.csv'\n",
        "data = pd.read_csv(frame, encoding=\"shift-jis\")\n",
        "df = pd.DataFrame(data)\n",
        "df = df.drop(columns=[\"No.\", \"信頼係数\", \"判定結果\"])\n",
        "df['退職有無'] = df['退職有無'].map(lambda x: 1 if x == '退職' else 0)\n",
        "\n",
        "# ここにデータ入れる。\"内定有無\",\"No.\",\"パーソナリティスケッチ\",\"信頼係数\"は入れないように\n",
        "X = df[[\"達成欲求\",\"一般的\", \"集中力\"]]\n",
        "\n",
        "y = df['退職有無']\n",
        "\n",
        "\n",
        "X_train, X_test, y_train, y_test = train_test_split(X, y, test_size=0.6, random_state=0)\n",
        "\n",
        "model = DecisionTreeClassifier(criterion='entropy', max_depth=15, random_state=0)\n",
        "model.fit(X_train, y_train)\n",
        "\n",
        "print('正解率(train):{:.3f}'.format(model.score(X_train, y_train)))\n",
        "print('正解率(test):{:.3f}'.format(model.score(X_test, y_test)))\n"
      ],
      "metadata": {
        "id": "x9qBmSro8M5D"
      },
      "execution_count": null,
      "outputs": []
    },
    {
      "cell_type": "markdown",
      "source": [
        "## **グリッドリサーチ**\n",
        "定義：アルゴリズムが固有に持つハイパーパラメータのチューニングする手法の一つ。\n",
        "\n",
        "例：ハイパーパラメータの例として、リッジ回帰の正則化の強さを決めるパラメータ。人間が実験の都合上、決めたもの。\n",
        "\n",
        "説明：\n",
        "\n",
        "  【アルゴリズム】\n",
        "\n",
        "\n",
        "  【出力】\n",
        "  - Best cross validation score...交差検証において選択されたハイパーパラメータの組み合わせに対するモデルの性能を示しています。最も良い交差検証スコア。\n",
        "  - Best parameters: 適なハイパーパラメータの組み合わせ\n",
        "  - Test score: 最適なハイパーパラメータを使用したモデルのテストセットでの性能"
      ],
      "metadata": {
        "id": "g7MhFwDi7QCx"
      }
    },
    {
      "cell_type": "code",
      "source": [
        "# 手書き版"
      ],
      "metadata": {
        "id": "8Wydm38S7Qrn"
      },
      "execution_count": null,
      "outputs": []
    },
    {
      "cell_type": "code",
      "source": [
        "#モジュール版\n",
        "from sklearn.model_selection import GridSearchCV\n",
        "from sklearn.svm import SVC\n",
        "from sklearn.model_selection import train_test_split\n",
        "import pandas as pd\n",
        "import numpy as np\n",
        "\n",
        "# データの読み込みと前処理\n",
        "frame = r'./early_retirement.csv'\n",
        "data = pd.read_csv(frame, encoding=\"shift-jis\")\n",
        "df = pd.DataFrame(data)\n",
        "df['退職有無']= df['退職有無'].map(lambda x:1 if x=='退職' else 0)\n",
        "X = df.drop(columns=[\"No.\", \"信頼係数\", \"判定結果\", \"ﾊﾟｰｿﾅﾘﾃｨｽｹｯﾁ\"])\n",
        "y = df[\"退職有無\"]\n",
        "\n",
        "# データの分割\n",
        "X_train, X_test, y_train, y_test = train_test_split(X, y, stratify=y, random_state=0)\n",
        "\n",
        "# パラメータグリッドの設定とGridSearchCVのインスタンス作成:ハイパーパラメータ探索範囲を設定し、GridSearchCVのインスタンスを作成します。この例では、C（正則化パラメータ）とgamma（RBFカーネルの尺度）の組み合わせを探索します。5分割交差検証を用いてモデルの評価を行います。\n",
        "param_grid = {'C': np.logspace(-3, 2, num=6), 'gamma':np.logspace(-3,2,num=6)}\n",
        "gs = GridSearchCV(estimator=SVC(), param_grid=param_grid, cv=5)\n",
        "\n",
        "# モデルの適合とパラメータチューニング:GridSearchCVを用いてハイパーパラメータの組み合わせを試し、交差検証スコアが最も高い組み合わせを探索します。\n",
        "gs.fit(X_train,y_train)\n",
        "\n",
        "#\n",
        "print('Best cross validation score:{:.3f}'.format(gs.best_score_))\n",
        "print('Best parameters:{}'.format(gs.best_params_))\n",
        "print('Test score:{:.3f}'.format(gs.score(X_test,y_test)))\n"
      ],
      "metadata": {
        "id": "uPDzyCL8E3BN"
      },
      "execution_count": null,
      "outputs": []
    },
    {
      "cell_type": "markdown",
      "source": [
        "## **パフォーマンスチューニング：特徴量の扱い**\n",
        "パフォーマンスチューニング\n",
        "バイアスとバリアンスのトレードオフ\n",
        "学習不足の場合...特徴量を増やせないか検討する。具体的には、新しくデータを収集し全く新しい特徴量を追加する。特徴量の計算期間にバリエーションをもたせる　。特徴量同士の比r津を追加すｒなどの工夫う\n",
        "\n",
        "過学習の場合特徴量を減らすことを感がげrう"
      ],
      "metadata": {
        "id": "_1ZIWMzZSE23"
      }
    },
    {
      "cell_type": "markdown",
      "source": [
        "# **モデルの評価指標**\n"
      ],
      "metadata": {
        "id": "N641evzQbj-P"
      }
    }
  ]
}